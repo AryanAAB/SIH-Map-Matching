{
  "nbformat": 4,
  "nbformat_minor": 0,
  "metadata": {
    "colab": {
      "provenance": []
    },
    "kernelspec": {
      "name": "python3",
      "display_name": "Python 3"
    },
    "language_info": {
      "name": "python"
    }
  },
  "cells": [
    {
      "cell_type": "code",
      "source": [
        "import numpy as np\n",
        "import sklearn\n",
        "import random"
      ],
      "metadata": {
        "id": "Pxd-IqSrqdHO"
      },
      "execution_count": 1,
      "outputs": []
    },
    {
      "cell_type": "code",
      "source": [
        "ERROR_BOUND = np.arange(4.5, 5.5, 10)"
      ],
      "metadata": {
        "id": "6QWDWE9Dqxby"
      },
      "execution_count": 2,
      "outputs": []
    },
    {
      "cell_type": "code",
      "source": [
        "SERVICE_LEFT = [(i, 2.5) for i in range(0, 81)]\n",
        "HIGHWAY_CORDS = [(i, 10) for i in range(0, 81)]\n",
        "SERVICE_RIGHT = [(i, 17.5) for i in range(0, 81)]\n",
        "\n",
        "SERVICE_LEFT.extend([(83, 2.5 - i) for i in range(2, 54)])\n",
        "SERVICE_RIGHT.extend([(83, 10 - i) for i in range(2, 54)])\n",
        "HIGHWAY_CORDS.extend([(83, 17.5 - i) for i in range(2, 54)])\n",
        "\n",
        "SERVICE_LEFT.extend([(85, 2.5 + i) for i in range(2, 54)])\n",
        "SERVICE_RIGHT.extend([(85, 10 + i) for i in range(2, 54)])\n",
        "HIGHWAY_CORDS.extend([(85, 17.5 + i) for i in range(2, 54)])"
      ],
      "metadata": {
        "id": "NgRz5hTtPBRD"
      },
      "execution_count": 3,
      "outputs": []
    },
    {
      "cell_type": "code",
      "source": [
        "serviceL = 1\n",
        "serviceR = 1\n",
        "highway = 1"
      ],
      "metadata": {
        "id": "D8hUkmtQpSDu"
      },
      "execution_count": 4,
      "outputs": []
    },
    {
      "cell_type": "code",
      "source": [
        "def euclidean_distance(p1, p2):\n",
        "    return np.sqrt((p1[0] - p2[0])**2 + (p1[1] - p2[1])**2)"
      ],
      "metadata": {
        "id": "U6rw-1IQt935"
      },
      "execution_count": 5,
      "outputs": []
    },
    {
      "cell_type": "code",
      "source": [
        "def find_nearest_point(point, road):\n",
        "    return min(road, key=lambda p: euclidean_distance(p, point))"
      ],
      "metadata": {
        "id": "5dnMM9l614E3"
      },
      "execution_count": 6,
      "outputs": []
    },
    {
      "cell_type": "code",
      "source": [
        "def nearest_neighbor_simulation():\n",
        "    global serviceL, serviceR, highway\n",
        "    while serviceL + serviceR + highway > 1:  # Loop until only one road is left\n",
        "        # Take (x, y) input\n",
        "        x = float(input(\"Enter the x-coordinate: \"))\n",
        "        y = float(input(\"Enter the y-coordinate: \"))\n",
        "        input_point = (x, y)\n",
        "\n",
        "        # Select a random error bound\n",
        "        error_bound = random.choice(ERROR_BOUND)\n",
        "        print(f\"Selected error bound: {error_bound}\")\n",
        "\n",
        "        # Find nearest points for each road\n",
        "        if serviceL == 1:\n",
        "            nearest_left = find_nearest_point(input_point, SERVICE_LEFT)\n",
        "            dist_left = euclidean_distance(input_point, nearest_left)\n",
        "        else:\n",
        "            dist_left = float('inf')\n",
        "\n",
        "        if serviceR == 1:\n",
        "            nearest_right = find_nearest_point(input_point, SERVICE_RIGHT)\n",
        "            dist_right = euclidean_distance(input_point, nearest_right)\n",
        "        else:\n",
        "            dist_right = float('inf')\n",
        "\n",
        "        if highway == 1:\n",
        "            nearest_highway = find_nearest_point(input_point, HIGHWAY_CORDS)\n",
        "            dist_highway = euclidean_distance(input_point, nearest_highway)\n",
        "        else:\n",
        "            dist_highway = float('inf')\n",
        "\n",
        "        # Check if any road exceeds the error bound\n",
        "        if dist_left > error_bound:\n",
        "            serviceL = 0\n",
        "            print(\"Service Left road disabled.\")\n",
        "        if dist_right > error_bound:\n",
        "            serviceR = 0\n",
        "            print(\"Service Right road disabled.\")\n",
        "        if dist_highway > error_bound:\n",
        "            highway = 0\n",
        "            print(\"Highway road disabled.\")\n",
        "\n",
        "        # Check the current status of roads\n",
        "        print(f\"Road Status: serviceL={serviceL}, serviceR={serviceR}, highway={highway}\")\n",
        "\n",
        "    # Print the final remaining road\n",
        "    if serviceL == 1:\n",
        "        print(\"Service Left road is the last remaining road.\")\n",
        "    elif serviceR == 1:\n",
        "        print(\"Service Right road is the last remaining road.\")\n",
        "    else:\n",
        "        print(\"Highway is the last remaining road.\")\n"
      ],
      "metadata": {
        "id": "kKa60rys15cr"
      },
      "execution_count": 7,
      "outputs": []
    },
    {
      "cell_type": "code",
      "source": [
        "nearest_neighbor_simulation()"
      ],
      "metadata": {
        "colab": {
          "base_uri": "https://localhost:8080/"
        },
        "id": "zCpGnQll18I2",
        "outputId": "1bb4710f-3687-4d10-f5e5-05f08755a8d5"
      },
      "execution_count": 8,
      "outputs": [
        {
          "output_type": "stream",
          "name": "stdout",
          "text": [
            "Enter the x-coordinate: 34\n",
            "Enter the y-coordinate: 32\n",
            "Selected error bound: 4.5\n",
            "Service Left road disabled.\n",
            "Service Right road disabled.\n",
            "Highway road disabled.\n",
            "Road Status: serviceL=0, serviceR=0, highway=0\n",
            "Highway is the last remaining road.\n"
          ]
        }
      ]
    },
    {
      "cell_type": "code",
      "source": [],
      "metadata": {
        "id": "UK0tJw9c197g"
      },
      "execution_count": 8,
      "outputs": []
    }
  ]
}